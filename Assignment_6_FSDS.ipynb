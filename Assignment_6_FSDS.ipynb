{
 "cells": [
  {
   "cell_type": "markdown",
   "id": "1f2e0bf3",
   "metadata": {},
   "source": [
    "# 1. What are escape characters, and how do you use them?\n",
    "\n",
    "ANSWER- An escape character is a backslash \\ followed by the character you want to insert.\n",
    "        We use them by using backslash and give the command for what you want with backslash.\n",
    "Example: Given below some of them"
   ]
  },
  {
   "cell_type": "code",
   "execution_count": 1,
   "id": "3d2d11e5",
   "metadata": {},
   "outputs": [
    {
     "name": "stdout",
     "output_type": "stream",
     "text": [
      "sanjay\n",
      "sharma\n"
     ]
    }
   ],
   "source": [
    "print(\"sanjay\\nsharma\") #it means new line"
   ]
  },
  {
   "cell_type": "code",
   "execution_count": 2,
   "id": "eb933ed4",
   "metadata": {},
   "outputs": [
    {
     "name": "stdout",
     "output_type": "stream",
     "text": [
      "sanjay\tsharma\n"
     ]
    }
   ],
   "source": [
    "print(\"sanjay\\tsharma\")#it means space in between"
   ]
  },
  {
   "cell_type": "code",
   "execution_count": 3,
   "id": "c72b2a84",
   "metadata": {},
   "outputs": [
    {
     "name": "stdout",
     "output_type": "stream",
     "text": [
      "sanjay \bsharma\n"
     ]
    }
   ],
   "source": [
    "print(\"sanjay \\bsharma\")#remove space between the words"
   ]
  },
  {
   "cell_type": "markdown",
   "id": "ca26cc0e",
   "metadata": {},
   "source": [
    "# 2. What do the escape characters n and t stand for?\n",
    "\n",
    "ANSWER-The escape character n stand for new line and t stand for space."
   ]
  },
  {
   "cell_type": "code",
   "execution_count": 4,
   "id": "5c9a0d33",
   "metadata": {},
   "outputs": [
    {
     "name": "stdout",
     "output_type": "stream",
     "text": [
      "sanjay\n",
      "sharma\n"
     ]
    }
   ],
   "source": [
    "print(\"sanjay\\nsharma\") #it means new line"
   ]
  },
  {
   "cell_type": "code",
   "execution_count": 5,
   "id": "32315ba8",
   "metadata": {},
   "outputs": [
    {
     "name": "stdout",
     "output_type": "stream",
     "text": [
      "sanjay\tsharma\n"
     ]
    }
   ],
   "source": [
    "print(\"sanjay\\tsharma\")#it means space in between"
   ]
  },
  {
   "cell_type": "markdown",
   "id": "b72f6c1b",
   "metadata": {},
   "source": [
    "# 3. What is the way to include backslash characters in a string?\n",
    "\n",
    "ANSWER- The way to include backslash characters in a string by using two backslashes ."
   ]
  },
  {
   "cell_type": "code",
   "execution_count": 6,
   "id": "3ce0112f",
   "metadata": {},
   "outputs": [
    {
     "name": "stdout",
     "output_type": "stream",
     "text": [
      "hello ineuron \"neurolab\" from the banglore.\n"
     ]
    }
   ],
   "source": [
    "t = \"hello ineuron \\\"neurolab\\\" from the banglore.\"\n",
    "print(t)"
   ]
  },
  {
   "cell_type": "markdown",
   "id": "4035a0d9",
   "metadata": {},
   "source": [
    "# 4. The string \"Howl's Moving Castle\" is a correct value. Why isn't the single quote character in the word Howl's not escaped a problem?\n",
    "\n",
    "ANSWER- It gives invalid syntax,there is a mismatch of single quotes .If we want to overcome this problem we have to do put double quotes at the start and end of the string or otherhand we have to put double quotes in between Howl\"s and at start and end you may put single quotes."
   ]
  },
  {
   "cell_type": "code",
   "execution_count": 13,
   "id": "e238de4e",
   "metadata": {},
   "outputs": [
    {
     "name": "stdout",
     "output_type": "stream",
     "text": [
      "Howl's Moving Castle\n"
     ]
    }
   ],
   "source": [
    "txt=\"Howl's Moving Castle\"\n",
    "print(txt)"
   ]
  },
  {
   "cell_type": "code",
   "execution_count": 11,
   "id": "53227cae",
   "metadata": {},
   "outputs": [
    {
     "ename": "SyntaxError",
     "evalue": "invalid syntax (2665199313.py, line 1)",
     "output_type": "error",
     "traceback": [
      "\u001b[1;36m  Input \u001b[1;32mIn [11]\u001b[1;36m\u001b[0m\n\u001b[1;33m    txt='Howl's Moving Castle'\u001b[0m\n\u001b[1;37m              ^\u001b[0m\n\u001b[1;31mSyntaxError\u001b[0m\u001b[1;31m:\u001b[0m invalid syntax\n"
     ]
    }
   ],
   "source": [
    "txt='Howl's Moving Castle'\n",
    "print(txt)"
   ]
  },
  {
   "cell_type": "code",
   "execution_count": 12,
   "id": "fa67b8c3",
   "metadata": {},
   "outputs": [
    {
     "name": "stdout",
     "output_type": "stream",
     "text": [
      "Howl\"s Moving Castle\n"
     ]
    }
   ],
   "source": [
    "txt='Howl\"s Moving Castle'#overcome by put double quotes in between\n",
    "print(txt)"
   ]
  },
  {
   "cell_type": "markdown",
   "id": "d4887fbe",
   "metadata": {},
   "source": [
    "# 5. How do you write a string of newlines if you don't want to use the n character?\n",
    "\n",
    "ANSWER- We can print strings without adding a new line with end=<character>to separate the lines."
   ]
  },
  {
   "cell_type": "code",
   "execution_count": 32,
   "id": "9f26fead",
   "metadata": {},
   "outputs": [
    {
     "name": "stdout",
     "output_type": "stream",
     "text": [
      "hello\n",
      "ineuron members\n"
     ]
    }
   ],
   "source": [
    "# Printing Multiple Statements in Python\n",
    "print(\"hello\")\n",
    "print(\"ineuron members\")\n"
   ]
  },
  {
   "cell_type": "code",
   "execution_count": 33,
   "id": "a3230791",
   "metadata": {},
   "outputs": [
    {
     "name": "stdout",
     "output_type": "stream",
     "text": [
      "hello ineuron members\n"
     ]
    }
   ],
   "source": [
    "#It show what actually end parameter do\n",
    "print(\"hello\",end=\" \")\n",
    "print(\"ineuron members\")"
   ]
  },
  {
   "cell_type": "markdown",
   "id": "1d41d389",
   "metadata": {},
   "source": [
    "# 6. What are the values of the given expressions?\n",
    "'Hello, world!'[1]\n",
    "'Hello, world!'[0:5]\n",
    "'Hello, world!'[:5]\n",
    "'Hello, world!'[3:]\n",
    "\n",
    "ANSWER-"
   ]
  },
  {
   "cell_type": "code",
   "execution_count": 34,
   "id": "f4ee5774",
   "metadata": {},
   "outputs": [
    {
     "data": {
      "text/plain": [
       "'e'"
      ]
     },
     "execution_count": 34,
     "metadata": {},
     "output_type": "execute_result"
    }
   ],
   "source": [
    "txt='Hello,world!'\n",
    "txt[1]"
   ]
  },
  {
   "cell_type": "code",
   "execution_count": 35,
   "id": "5807953f",
   "metadata": {},
   "outputs": [
    {
     "data": {
      "text/plain": [
       "'Hello'"
      ]
     },
     "execution_count": 35,
     "metadata": {},
     "output_type": "execute_result"
    }
   ],
   "source": [
    "txt='Hello,world!'\n",
    "txt[0:5]"
   ]
  },
  {
   "cell_type": "code",
   "execution_count": 36,
   "id": "929fe88f",
   "metadata": {},
   "outputs": [
    {
     "data": {
      "text/plain": [
       "'Hello'"
      ]
     },
     "execution_count": 36,
     "metadata": {},
     "output_type": "execute_result"
    }
   ],
   "source": [
    "txt='Hello,world!'\n",
    "txt[:5]"
   ]
  },
  {
   "cell_type": "code",
   "execution_count": 37,
   "id": "0782c8c1",
   "metadata": {},
   "outputs": [
    {
     "data": {
      "text/plain": [
       "'lo,world!'"
      ]
     },
     "execution_count": 37,
     "metadata": {},
     "output_type": "execute_result"
    }
   ],
   "source": [
    "txt='Hello,world!'\n",
    "txt[3:]"
   ]
  },
  {
   "cell_type": "markdown",
   "id": "55f4c9ee",
   "metadata": {},
   "source": [
    "# 7. What are the values of the following expressions?\n",
    "'Hello'.upper()\n",
    "'Hello'.upper().isupper()\n",
    "'Hello'.upper().lower()\n",
    "\n",
    "ANSWER-"
   ]
  },
  {
   "cell_type": "code",
   "execution_count": 38,
   "id": "fd8b33b8",
   "metadata": {},
   "outputs": [
    {
     "data": {
      "text/plain": [
       "'HELLO'"
      ]
     },
     "execution_count": 38,
     "metadata": {},
     "output_type": "execute_result"
    }
   ],
   "source": [
    "txt='Hello'\n",
    "txt.upper()#It change into capital alphabets"
   ]
  },
  {
   "cell_type": "code",
   "execution_count": 41,
   "id": "9b34d0ff",
   "metadata": {},
   "outputs": [
    {
     "data": {
      "text/plain": [
       "True"
      ]
     },
     "execution_count": 41,
     "metadata": {},
     "output_type": "execute_result"
    }
   ],
   "source": [
    "txt='Hello'\n",
    "txt.upper().isupper()#It change into capital and then check is it into capital if yes then returns true otherwise false."
   ]
  },
  {
   "cell_type": "code",
   "execution_count": 42,
   "id": "9cc47665",
   "metadata": {},
   "outputs": [
    {
     "data": {
      "text/plain": [
       "False"
      ]
     },
     "execution_count": 42,
     "metadata": {},
     "output_type": "execute_result"
    }
   ],
   "source": [
    "txt='Hello'\n",
    "txt.upper().islower()#It change into capital and then check it is in lower if yes then gives true otherwise false"
   ]
  },
  {
   "cell_type": "markdown",
   "id": "85c8eff9",
   "metadata": {},
   "source": [
    "# 8. What are the values of the following expressions?\n",
    "'Remember, remember, the fifth of July.'.split()\n",
    "'-'.join('There can only one.'.split())\n",
    "\n",
    "ANSWER-"
   ]
  },
  {
   "cell_type": "code",
   "execution_count": 11,
   "id": "746dc457",
   "metadata": {},
   "outputs": [
    {
     "name": "stdout",
     "output_type": "stream",
     "text": [
      "['Remember,', 'remember,', 'the', 'fifth', 'of', 'July.']\n",
      "There-can-only-one.\n"
     ]
    }
   ],
   "source": [
    "t1='Remember, remember, the fifth of July.'.split()\n",
    "t2='-'.join('There can only one.'.split())\n",
    "print(t1)\n",
    "print(t2)\n"
   ]
  },
  {
   "cell_type": "markdown",
   "id": "4870aae0",
   "metadata": {},
   "source": [
    "# 9. What are the methods for right-justifying, left-justifying, and centering a string?\n",
    "\n",
    "ANSWER- Given below:"
   ]
  },
  {
   "cell_type": "code",
   "execution_count": 14,
   "id": "ddc22ca8",
   "metadata": {},
   "outputs": [
    {
     "name": "stdout",
     "output_type": "stream",
     "text": [
      "the original string is \n",
      " i love ineuron course \n",
      "\n",
      "the right aligned string is:\n",
      "-----------------------------i love ineuron course\n"
     ]
    }
   ],
   "source": [
    "#the working with right_justifying\n",
    "txt=\"i love ineuron course\"\n",
    "#printing the original string\n",
    "print(\"the original string is \\n\",txt,\"\\n\")\n",
    "\n",
    "#printing the right aligned string with '-' padding\n",
    "print(\"the right aligned string is:\")\n",
    "print(txt.rjust(50,'-'))#expanding the given width to right aligned"
   ]
  },
  {
   "cell_type": "code",
   "execution_count": 16,
   "id": "8f75ce19",
   "metadata": {},
   "outputs": [
    {
     "name": "stdout",
     "output_type": "stream",
     "text": [
      "the original string is \n",
      " i love ineuron course \n",
      "\n",
      "the left aligned string is:\n",
      "i love ineuron course---------------------------------------\n"
     ]
    }
   ],
   "source": [
    "#the working with left_justifying\n",
    "txt=\"i love ineuron course\"\n",
    "#printing the original string\n",
    "print(\"the original string is \\n\",txt,\"\\n\")\n",
    "\n",
    "#printing the right aligned string with '-' padding\n",
    "print(\"the left aligned string is:\")\n",
    "print(txt.ljust(60,'-'))# expanding the given width to left aligned"
   ]
  },
  {
   "cell_type": "code",
   "execution_count": 18,
   "id": "048f4856",
   "metadata": {},
   "outputs": [
    {
     "name": "stdout",
     "output_type": "stream",
     "text": [
      "the original string is \n",
      " i love ineuron course of FSDS \n",
      "\n",
      "the center aligned string is:\n",
      "@@@@@@@@@@i love ineuron course of FSDS@@@@@@@@@@@\n"
     ]
    }
   ],
   "source": [
    "# the working with centering_justifying\n",
    "txt=\"i love ineuron course of FSDS\"\n",
    "#printing the original string\n",
    "print(\"the original string is \\n\",txt,\"\\n\")\n",
    "\n",
    "#printing the center aligned string with fillchr '@'\n",
    "print(\"the center aligned string is:\")\n",
    "print(txt.center(50,'@'))\n"
   ]
  },
  {
   "cell_type": "markdown",
   "id": "1c06ebef",
   "metadata": {},
   "source": [
    "# 10. What is the best way to remove whitespace characters from the start or end?\n",
    "\n",
    "ANSWER- The best way to remove whitespace character from the start or end by using .strip() method.Given below"
   ]
  },
  {
   "cell_type": "code",
   "execution_count": 20,
   "id": "3d247e85",
   "metadata": {},
   "outputs": [
    {
     "name": "stdout",
     "output_type": "stream",
     "text": [
      "  sanjay sharma!  enrolled in ineuron course\n"
     ]
    }
   ],
   "source": [
    "#without using strip method it gives whitespace.\n",
    "txt=\"  sanjay sharma! \"\n",
    "print(txt,\"enrolled in ineuron course\")\n"
   ]
  },
  {
   "cell_type": "code",
   "execution_count": 21,
   "id": "13c7a838",
   "metadata": {},
   "outputs": [
    {
     "name": "stdout",
     "output_type": "stream",
     "text": [
      "sanjay sharma! enrolled in ineuron course\n"
     ]
    }
   ],
   "source": [
    "txt=\"  sanjay sharma! \"\n",
    "print(txt.strip(),\"enrolled in ineuron course\")# it removes whitespace."
   ]
  },
  {
   "cell_type": "code",
   "execution_count": null,
   "id": "77b9068b",
   "metadata": {},
   "outputs": [],
   "source": []
  }
 ],
 "metadata": {
  "kernelspec": {
   "display_name": "Python 3 (ipykernel)",
   "language": "python",
   "name": "python3"
  },
  "language_info": {
   "codemirror_mode": {
    "name": "ipython",
    "version": 3
   },
   "file_extension": ".py",
   "mimetype": "text/x-python",
   "name": "python",
   "nbconvert_exporter": "python",
   "pygments_lexer": "ipython3",
   "version": "3.9.12"
  }
 },
 "nbformat": 4,
 "nbformat_minor": 5
}
